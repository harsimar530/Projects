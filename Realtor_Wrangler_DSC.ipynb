{
 "cells": [
  {
   "cell_type": "code",
   "execution_count": 1,
   "id": "b9db67c8",
   "metadata": {},
   "outputs": [],
   "source": [
    "import pandas as pd\n",
    "import numpy as np\n",
    "import matplotlib.pyplot as plt\n",
    "from sklearn.preprocessing import LabelEncoder\n",
    "from re import sub\n",
    "from decimal import Decimal\n",
    "from datetime import datetime\n",
    "import statsmodels.api as sm\n",
    "from statsmodels.formula.api import ols\n",
    "import scipy.stats as stats\n",
    "import statsmodels.stats.multicomp\n",
    "from statsmodels.stats.anova import anova_lm\n",
    "from scipy import stats\n",
    "import seaborn as sns\n",
    "from sklearn.preprocessing import LabelEncoder"
   ]
  },
  {
   "cell_type": "code",
   "execution_count": 2,
   "id": "981be21a",
   "metadata": {},
   "outputs": [],
   "source": [
    "def substring_clean(new_df):\n",
    "    new_df['bed'] = new_df['bed'].str.replace(\"Bedrooms:\", \"\")\n",
    "    new_df['bath'] = new_df['bed'].str.replace(\"Total Bathrooms:\", \"\")\n",
    "    new_df['property_type'] = new_df['property_type'].str.replace(\"Source Property Type:\", \"\")\n",
    "    new_df['property_type'] = new_df['property_type'].str.strip()\n",
    "    new_df['House_Style'] = new_df['House_Style'].str.replace(\"House Style:\", \"\")\n",
    "    new_df['House_Style'] = new_df['House_Style'].str.split(',').str[0]\n",
    "    new_df['House_Style'] = new_df['House_Style'].str.split(':').str[-1]\n",
    "    new_df['House_Style'] = new_df['House_Style'].str.strip()\n",
    "    new_df['sqft'] = new_df['sqft'].str.replace(\"sq ft\", \"\")\n",
    "    new_df['sqft'] = new_df['sqft'].str.replace(\",\", \"\")\n",
    "    new_df['sqft'] = new_df['sqft'].str.replace(\"Lot ()\", \"\")\n",
    "    new_df['county'] = new_df['county'].str.replace(\"County:\", \"\")\n",
    "    \n",
    "def loop_substring_clean(new_df):\n",
    "    for ppsq in new_df['price_sq']:\n",
    "        new_df['price_sq'] = new_df['price_sq'].str.replace(\"\\n\\nPrice/Sq Ft\\n\", \"\")\n",
    "        new_df['price_sq'] = new_df['price_sq'].str.replace(\"\\n\", \"\")\n",
    "        new_df['year built'] = new_df['year built'].str.replace(\"\\n\\nBuilt\\n\", \"\")\n",
    "        new_df['year built'] = new_df['year built'].str.replace(\"\\n\", \"\")\n",
    "\n",
    "def column_conversion(new_df):\n",
    "    for i in range(0,len(new_df['price'])):\n",
    "        if new_df['price'].iloc[i] == 'Contact For Price':\n",
    "            new_df['price'].iloc[i] = 0\n",
    "        else:\n",
    "            new_df['price'].iloc[i] = new_df['price'].iloc[i].replace('$', '')\n",
    "            new_df['price'].iloc[i] = new_df['price'].iloc[i].replace(',', '')\n",
    "            \n",
    "    \n",
    "    new_df['price'] = new_df['price'].astype(int)\n",
    "    new_df['bed'] = new_df['bed'].astype(int)\n",
    "    new_df['bath'] = new_df['bath'].astype(int)\n",
    "    \n",
    "    \n",
    "\n",
    "def price_conversion(new_df):\n",
    "    for i in range(0,len(new_df['price_sq'])):\n",
    "        if new_df['price_sq'].iloc[i] == 'No Info':\n",
    "            new_df['price_sq'].iloc[i] = 0\n",
    "        else:\n",
    "            new_df['price_sq'].iloc[i] = new_df['price_sq'].iloc[i].replace('$', '')\n",
    "            new_df['price_sq'].iloc[i] = new_df['price_sq'].iloc[i].replace(',', '')\n",
    "       \n",
    "    new_df['price_sq'] = new_df['price_sq'].astype(int)\n",
    "\n",
    "def year_built(new_df):\n",
    "    for i in range(0,len(new_df['year built'])):\n",
    "        if len(new_df['year built'].iloc[i]) > 4:\n",
    "            new_df['year built'].iloc[i] = 0\n",
    "    \n",
    "\n",
    "    new_df['year built'] = new_df['year built'].astype(int)\n",
    "\n",
    "def sq_ft(new_df):\n",
    "    for i in range(0,len(new_df['sqft'])):\n",
    "        if len(new_df['sqft'].iloc[i]) < 4:\n",
    "            new_df['sqft'].iloc[i] = 0 \n",
    "        \n",
    "    new_df['sqft'] = new_df['sqft'].astype(int)\n",
    "\n",
    "\n"
   ]
  },
  {
   "cell_type": "code",
   "execution_count": 3,
   "id": "c2958961",
   "metadata": {},
   "outputs": [],
   "source": [
    "def create_sold_data_convert(new_df):\n",
    "    import json\n",
    "    import ast\n",
    "    test=[0]*len(new_df)\n",
    "    for i in range(0,len(new_df['sold_data'])):\n",
    "        extract = new_df[\"sold_data\"].iloc[i]\n",
    "        test[i] = ast.literal_eval(extract)\n",
    "    new_df['sold_data_convert']=test\n",
    "\n",
    "def create_price_diff(new_df):\n",
    "    date_change=[0]*len(new_df)\n",
    "    dc=0\n",
    "\n",
    "    for data in new_df['sold_data_convert']:\n",
    "\n",
    "        try:\n",
    "            if data != []:\n",
    "                if len(data) <2:\n",
    "                    recent_date = data[0]\n",
    "                    recent_date= datetime.strptime(recent_date['date'],'%m/%d/%Y')\n",
    "                    today= datetime.strptime('07/04/2022','%m/%d/%Y')\n",
    "                    date_change[dc]=(today- recent_date ).days\n",
    "                   # dc+=1\n",
    "                if len(data) > 2:\n",
    "                    recent_date = data[0]\n",
    "                    recent_date= datetime.strptime(recent_date['date'],'%m/%d/%Y')\n",
    "                    last_date = data[-1]\n",
    "                    last_date= datetime.strptime(last_date['date'],'%m/%d/%Y')\n",
    "                    days= (recent_date - last_date).days\n",
    "                    date_change[dc] = days\n",
    "                   #dc+=1\n",
    "            else:\n",
    "\n",
    "                date_change[dc] = (0)\n",
    "                #dc+=1\n",
    "        except Exception as e:\n",
    "            \n",
    "            date_change[dc] = (0)\n",
    "            #dc+=1\n",
    "        dc +=1\n",
    "\n",
    "\n",
    "    new_df['days_price_change'] = date_change\n",
    "\n",
    "def create_first_last_date(new_df):\n",
    "    recent=[0]*len(new_df)\n",
    "    last=[0]*len(new_df)\n",
    "    dc=0\n",
    "\n",
    "    for data in new_df['sold_data_convert']:\n",
    "        try:\n",
    "            if data != []:\n",
    "                if len(data) <2:\n",
    "                    recent_date = data[0]\n",
    "                    recent_date= datetime.strptime(recent_date['date'],'%m/%d/%Y')\n",
    "                    today= datetime.strptime('07/04/2022','%m/%d/%Y')\n",
    "                    recent[dc] = recent_date\n",
    "                    last[dc] = recent_date\n",
    "                    \n",
    "                if len(data) > 2:\n",
    "                    recent_date = data[0]\n",
    "                    recent_date= datetime.strptime(recent_date['date'],'%m/%d/%Y')\n",
    "                    last_date = data[-1]\n",
    "                    last_date= datetime.strptime(last_date['date'],'%m/%d/%Y')\n",
    "                    days= (recent_date - last_date).days\n",
    "                    recent[dc] = recent_date\n",
    "                    last[dc] = last_date\n",
    "                    \n",
    "            else:\n",
    "\n",
    "                recent[dc] = (0)\n",
    "                last[dc]= (0)\n",
    "                \n",
    "        except Exception as e:\n",
    "            \n",
    "            recent[dc] = (0)\n",
    "            last[dc]= (0)\n",
    "        dc+=1\n",
    "\n",
    "\n",
    "    new_df['recent_date'] = recent\n",
    "    new_df['latest'] = last\n",
    "    "
   ]
  },
  {
   "cell_type": "code",
   "execution_count": 4,
   "id": "2a7eb8d5",
   "metadata": {},
   "outputs": [],
   "source": [
    "def create_prop_dict(new_df):\n",
    "    \n",
    "    manufactured = ['Double Wide Mobile Home','Manufactured w/o Land','Residential - Manufactured/Mobile','Manufactured w/Land','Single Family - Detached','Mobile','Double Wide Mobile Home','Single Wide Mobile Home','Triple Wide Mobile Home','Manufactured In Park','Manufactured Home','Manufactured On Land','Mfg/Mobile Housing']\n",
    "    resident_income = ['Multifamily','Apartment Building','5-10 Units','Residential','Multi-level','resident_income','Five or More Units','Residential Income','Res Income 2-4 Units','MULT','resident_income']\n",
    "    condo=['Condo/Townhm/Twin','Loft Style','Apartment Style/Flat','Residential - Condo/Townhouse','Condo','condo','COND','Condominium','Condo/Townhome']\n",
    "    Plex=['Triplex','Bungalow/1.5 Story','Townhouse-2 Story, End Unit, Not a condo (Single Fam)','Fourplex','1 story, Shared Wall/HalfDuplex','Duplex','Four Plex','Duplex/2 Story','Duplex +','Duplex/2 Story, In-Law/Guest Quarter','Duplex-side by side','Bungalow/1.5 Story, In-Law/Guest Quarter','Ranch-1 Story, Shared Wall/Half duplex','Shared Wall/Half duplex','Tri-plex']\n",
    "    \n",
    "    Other=['Conversion','Subdivision','All Other Attached','Garden, End Unit','View of Water','2 flat-up and down','1 story, Under construction','2 story, Under construction','A','2 story, Multi-level','1 story, BldgPlan w/Lot','1 1/2 story, 2 story','1 1/2 story','2 story, BldgPlan w/Lot','Attached Dwelling','0','Attached','3 story, 2 flat-up and down','2 story','1 story','Townhouse-2 Story','Townhouse-2 Story, End Unit']\n",
    "    Ranch = ['Land Developed','View of Water, Waterfrontage on Lot','Garden','Farm/Ranch','Land Undeveloped']\n",
    "    Single_Family = ['Detached','Garden, Conversion','Townhouse-2 Story, Under Construction','Townhome','Townhouse','Single Family Site Built','Single Family Residence','Single Family']\n",
    "    \n",
    "    for i in range(0,len(new_df)):\n",
    "        if new_df['property_type'].iloc[i] in manufactured:\n",
    "            new_df['property_type'].iloc[i] = 'Manufactured'\n",
    "        elif new_df['property_type'].iloc[i] in resident_income:\n",
    "            new_df['property_type'].iloc[i] = 'resident_income'\n",
    "        elif new_df['property_type'].iloc[i] in condo:\n",
    "            new_df['property_type'].iloc[i] = 'Condo'\n",
    "        elif new_df['property_type'].iloc[i] in Plex:\n",
    "            new_df['property_type'].iloc[i] = 'Plex'\n",
    "        elif new_df['property_type'].iloc[i] in Single_Family:\n",
    "            new_df['property_type'].iloc[i] = 'Single_Family'\n",
    "        elif new_df['property_type'].iloc[i] in Other:\n",
    "            new_df['property_type'].iloc[i] = 'Other'\n",
    "        elif new_df['property_type'].iloc[i] in Ranch:\n",
    "            new_df['property_type'].iloc[i] = 'Ranch'\n",
    "                      \n",
    "            \n",
    "\n",
    "    Dict= {\n",
    "        'Single_Family': 1 , 'Manufactured': 2, 'resident_income': 3, 'Condo': 4,\n",
    "       'Plex' : 5, 'Other': 6,\n",
    "       'Ranch': 7 \n",
    "       } \n",
    "  \n",
    "    \n",
    "    \n",
    "    new= new_df.replace({\"property_type\": Dict})\n",
    "    new_df[\"property_type_code\"]=new_df['property_type'].map(Dict)\n",
    "    \n",
    "def create_city_dict(new_df):\n",
    "    Dict={\n",
    "        'San-Jose_CA':1 , 'Cupertino_CA': 2 , 'Anaheim_CA': 3, 'San-Diego_CA': 4,\n",
    "       'Seattle_WA': 5, 'Bellevue_WA' : 6, 'Portland_OR': 7, 'Eugene_OR': 8,\n",
    "       'Detroit_MI': 9, 'Royal-Oak_MI': 10, 'Farmington-Hills_MI': 11,\n",
    "       'Birmingham_MI': 12, 'Dallas_TX': 13, 'Plano_TX': 14, 'Frisco_TX': 15,\n",
    "       'Arlington_TX': 16,'Boulder_CO': 17, 'Denver_CO': 19, 'Chandler_AZ':20, 'Phoenix_AZ':21,\n",
    "        'Santa-Fe_NM': 22, 'Albuquerque_NM': 23, 'Madison_WI':24, 'Milwaukee_WI' : 25, 'Rexburg_ID' : 26, 'Boise_ID': 28\n",
    "\n",
    "    }\n",
    "    \n",
    "    new= new_df.replace({\"city\": Dict})\n",
    "    new_df[\"city_code\"]=new_df['city'].map(Dict)\n",
    "    \n",
    "    new_df['state_code'] = new_df['city'].str[-2:]\n",
    "    \n",
    "\n",
    "\n",
    "    \n",
    "    \n",
    "    \n",
    "def create_house_style(new_df):\n",
    "    \n",
    "    manufactured = ['Double Wide','Single Wide','Mobile Home','Mobile/Manufactured','Manufactured with Land','Manufactured Home','Double Wide Manufactured']\n",
    "    Rise=['Common Entry Building','Upper/Lower Apartment','High Rise','High Rise (8+)','Mid Rise (4-7)','Low Rise (1-3)']\n",
    "    Plex=['Attached','Shared Wall/Half duplex','Common Wall','Triplex','Duplex','1/2 Duplex with Land']\n",
    "    other=['Farmhouse','End Unit','Architectural Style','Saltbox','Fixer Upper','Composition','Split Entry','Units Over and Under','Live Work Unit','All Units in One Building','Separate Buildings','Conversion']\n",
    "    Contemporary = ['Mountain Contemporary','Urban Contemporary','Contemporary','NW Contemporary']\n",
    "    Townhome = ['Townhouse','Townhome','Split Level','Townhouse-2 Story']\n",
    "    levels=['Bi-level','Tri Level','Stacked','3 Level','Tri-level','Tri-Level','4 Level',]\n",
    "    Craftsman=['Craftsman','Prairie/Craftsman']\n",
    "    Ranch=['Ranch','Ranch-1 Story']\n",
    "    Traditional=['A-Frame','Patio Home','Traditional']\n",
    "    House=['1 Story','2 Story','1.5 Story','House','Single Story']\n",
    "    No_Description=['0','Garden','Detached']\n",
    "    Modern = ['Eichler','Contemporary/Modern','Modern','Mid Century Modern','Mid-Century Modern']\n",
    "    Luxury=['Luxury']\n",
    "    Cape=['Cape Cod','Capecod']\n",
    "    Mediterranean=['Mediterranean','Mediterranean/Mission/Spanish','Mediterranean/Spanish','Spanish','Tuscan']\n",
    "    Victorian=['Victorian','French','Country French','Tudor']\n",
    "    Colonial=['Garrison Colonial','Colonial']\n",
    "    Southwestern=['North New Mexico','Northern New Mexico','Pueblo/SW','Territorial','Southwestern','Pueblo']\n",
    "    Cottage=['Bungalow','Cottage/Bung','Cottage']\n",
    "    Custom=['Custom Style','Custom']\n",
    "    Condo=['Loft','Studio','Site Condo']\n",
    "    \n",
    "\n",
    "\n",
    "    \n",
    "    \n",
    "    for i in range(0,len(new_df)):\n",
    "            if new_df['House_Style'].iloc[i] in manufactured:\n",
    "                new_df['House_Style'].iloc[i] = 'Manufactured'\n",
    "            elif new_df['House_Style'].iloc[i] in Rise:\n",
    "                new_df['House_Style'].iloc[i] = 'Rise'\n",
    "            elif new_df['House_Style'].iloc[i] in Plex:\n",
    "                new_df['House_Style'].iloc[i] = 'Plex'\n",
    "            elif new_df['House_Style'].iloc[i] in other:\n",
    "                new_df['House_Style'].iloc[i] = 'Other'\n",
    "            elif new_df['House_Style'].iloc[i] in Contemporary:\n",
    "                new_df['House_Style'].iloc[i] = 'Contemporary'\n",
    "            elif new_df['House_Style'].iloc[i] in Townhome:\n",
    "                new_df['House_Style'].iloc[i] = 'Townhome'\n",
    "            elif new_df['House_Style'].iloc[i] in levels:\n",
    "                new_df['House_Style'].iloc[i] = 'levels'\n",
    "            elif new_df['House_Style'].iloc[i] in Craftsman:\n",
    "                new_df['House_Style'].iloc[i] = 'Craftsman'\n",
    "            elif new_df['House_Style'].iloc[i] in Ranch:\n",
    "                new_df['House_Style'].iloc[i] = 'Ranch'\n",
    "            elif new_df['House_Style'].iloc[i] in Traditional:\n",
    "                new_df['House_Style'].iloc[i] = 'Traditional'\n",
    "            elif new_df['House_Style'].iloc[i] in Modern:\n",
    "                new_df['House_Style'].iloc[i] = 'Modern'\n",
    "            elif new_df['House_Style'].iloc[i] in Luxury:\n",
    "                new_df['House_Style'].iloc[i] = 'Luxury'\n",
    "            elif new_df['House_Style'].iloc[i] in Cape:\n",
    "                new_df['House_Style'].iloc[i] = 'Cape'\n",
    "            elif new_df['House_Style'].iloc[i] in Mediterranean:\n",
    "                new_df['House_Style'].iloc[i] = 'Mediterranean'\n",
    "            elif new_df['House_Style'].iloc[i] in Colonial:\n",
    "                new_df['House_Style'].iloc[i] = 'Colonial'\n",
    "            elif new_df['House_Style'].iloc[i] in Victorian:\n",
    "                new_df['House_Style'].iloc[i] = 'Victorian'\n",
    "            elif new_df['House_Style'].iloc[i] in Southwestern:\n",
    "                new_df['House_Style'].iloc[i] = 'Southwestern'\n",
    "            elif new_df['House_Style'].iloc[i] in Cottage:\n",
    "                new_df['House_Style'].iloc[i] = 'Cottage'\n",
    "            elif new_df['House_Style'].iloc[i] in Custom:\n",
    "                new_df['House_Style'].iloc[i] = 'Custom'\n",
    "            elif new_df['House_Style'].iloc[i] in Condo:\n",
    "                new_df['House_Style'].iloc[i] = 'Condo'\n",
    "            elif new_df['House_Style'].iloc[i] in No_Description:\n",
    "                new_df['House_Style'].iloc[i] = 'No_Description'\n",
    "            elif new_df['House_Style'].iloc[i] in House:\n",
    "                new_df['House_Style'].iloc[i]= 'House'\n",
    "            \n",
    "    \n",
    "    \n",
    "    \n",
    "    Dict = {\n",
    "        'Other': 0, 'Manufactured': 1, 'Rise': 2, 'Plex': 3, 'Contemporary': 4, 'Townhome': 5,\n",
    "       'levels': 6, 'Craftsman': 7, 'Ranch': 8, 'Traditional': 9,\n",
    "       'Modern': 10, 'Luxury': 11, 'Cape': 12, 'Mediterranean': 13,\n",
    "       'Colonial': 14, 'Victorian': 15, 'Southwestern': 16,\n",
    "       'Cape': 17,'Townhome': 18, 'Cottage': 19,'Custom': 20, 'Condo': 21,'No_Description': 22, 'House': 23\n",
    "    }\n",
    "    new= new_df.replace({\"House_Style\": Dict})\n",
    "    new_df[\"House_Style_Code\"]=new_df['House_Style'].map(Dict)"
   ]
  },
  {
   "cell_type": "code",
   "execution_count": 5,
   "id": "3f3138de",
   "metadata": {},
   "outputs": [],
   "source": [
    "def year_conversion(new_df):\n",
    "    new_df['YEAR_DECADE'] = np.where((new_df['year_built'] > 1950) & (new_df['year_built'] < 1959), '1950 - 1959',\n",
    "                                     np.where((new_df['year_built'] > 1960) & (new_df['year_built'] < 1969), '1960 - 1969',\n",
    "                                              np.where((new_df['year_built'] > 1970) & (new_df['year_built'] < 1979), '1970 - 1979',\n",
    "                                                       np.where((new_df['year_built'] > 1980) & (new_df['year_built'] < 1989), '1980 - 1989',\n",
    "                                                                np.where((new_df['year_built'] > 1990) & (new_df['year_built'] < 1999), '1990 - 1999',\n",
    "                                                                         np.where((new_df['year_built'] > 2000) & (new_df['year_built'] < 2009), '2000 - 2009',\n",
    "                                                                                  np.where((new_df['year_built'] > 2010) & (new_df['year_built'] < 2019), '2010 - 2019',\n",
    "                                                                                           np.where((new_df['year_built'] > 2020) & (new_df['year_built'] < 2023), '2020 - 2022',\n",
    "                                                                                                    np.where(new_df['year_built'] < 10, 'No Year Given','Before 1950')))))))))\n",
    "    new_df['YEAR_DECADE_CODE'] = np.where(new_df['YEAR_DECADE'] == '1950 - 1959',1,\n",
    "                                         np.where(new_df['YEAR_DECADE'] == '1960 - 1969',2,\n",
    "                                                 np.where(new_df['YEAR_DECADE'] == '1970 - 1979',3,\n",
    "                                                         np.where(new_df['YEAR_DECADE'] == '1980 - 1989',4,\n",
    "                                                                 np.where(new_df['YEAR_DECADE'] == '1990 - 1999',5,\n",
    "                                                                         np.where(new_df['YEAR_DECADE'] == '2000 - 2009',6,\n",
    "                                                                                 np.where(new_df['YEAR_DECADE'] == '2010 - 2019',7,\n",
    "                                                                                          np.where(new_df['YEAR_DECADE'] == '2020 - 2022',8,\n",
    "                                                                                                   np.where(new_df['YEAR_DECADE'] == 'No Year Given',999,0)))))))))\n",
    "                                             "
   ]
  },
  {
   "cell_type": "code",
   "execution_count": 6,
   "id": "7f30275b",
   "metadata": {},
   "outputs": [],
   "source": [
    "def first_time_list(new_df):\n",
    "    new_df['first_time_list'] = np.where(new_df['price_change']==0,'First_Time',\"Not_First_Time\")\n",
    "    new_df['first_time_list_code'] = np.where(new_df['first_time_list'] == 'First_Time', 1,0)\n",
    "\n",
    "def average_metrics(new_df):\n",
    "    new_df['National_Price_Average'] = new_df['price'].mean()\n",
    "    new_df['County_Price_Average'] = new_df['price'].groupby(new_df['county']).transform('mean')\n",
    "\n",
    "def comparative_average(new_df):\n",
    "    new_df['County_Over_National'] = new_df['County_Price_Average']/new_df['National_Price_Average']\n",
    "    new_df['List_over_County'] = new_df['price']/new_df['County_Price_Average']\n",
    "    new_df['List_over_National']=new_df['price']/new_df['National_Price_Average']\n",
    "\n",
    "\n",
    "    "
   ]
  },
  {
   "cell_type": "code",
   "execution_count": 7,
   "id": "a3eee1aa",
   "metadata": {},
   "outputs": [],
   "source": [
    "def fair_value(new_df):\n",
    "    new_df['fair_value_flag'] = np.where((new_df['List_over_National'] < 1.0) & (new_df['County_Over_National'] < 1.0),1,0)\n",
    "\n"
   ]
  },
  {
   "cell_type": "code",
   "execution_count": 8,
   "id": "355240c0",
   "metadata": {},
   "outputs": [],
   "source": [
    "df1=pd.read_csv(\"Cupertino_CA.csv\")\n",
    "df2=pd.read_csv(\"San-Diego_CA.csv\")\n",
    "df3=pd.read_csv(\"Bellevue_WA.csv\")\n",
    "df4=pd.read_csv(\"Eugene_OR.csv\")\n",
    "df5=pd.read_csv(\"Royal-Oak_MI.csv\")\n",
    "df6=pd.read_csv(\"Birmingham_MI.csv\")\n",
    "df7=pd.read_csv(\"Plano_TX.csv\")\n",
    "df8=pd.read_csv(\"Arlington_TX.csv\")\n",
    "df9=pd.read_csv(\"Boulder_CO.csv\")\n",
    "df10=pd.read_csv(\"Chandler_AZ.csv\")\n",
    "df11=pd.read_csv(\"Santa-Fe_NM.csv\")\n",
    "df12=pd.read_csv(\"Madison_WI.csv\")\n",
    "df13=pd.read_csv(\"Boise_ID.csv\")\n",
    "\n",
    "frames = [df1, df2, df3, df4, df5, df6, df7, df8, df9, df10, df11, df12, df13]\n",
    "  \n",
    "new_df = pd.concat(frames)\n",
    "new_df=new_df.reset_index()"
   ]
  },
  {
   "cell_type": "code",
   "execution_count": null,
   "id": "6d1f441d",
   "metadata": {},
   "outputs": [],
   "source": []
  },
  {
   "cell_type": "code",
   "execution_count": 9,
   "id": "fecf0228",
   "metadata": {},
   "outputs": [
    {
     "name": "stderr",
     "output_type": "stream",
     "text": [
      "C:\\Users\\hsman\\AppData\\Local\\Temp/ipykernel_15456/3348703082.py:12: FutureWarning: The default value of regex will change from True to False in a future version.\n",
      "  new_df['sqft'] = new_df['sqft'].str.replace(\"Lot ()\", \"\")\n",
      "C:\\Users\\hsman\\anaconda3\\lib\\site-packages\\pandas\\core\\indexing.py:1732: SettingWithCopyWarning: \n",
      "A value is trying to be set on a copy of a slice from a DataFrame\n",
      "\n",
      "See the caveats in the documentation: https://pandas.pydata.org/pandas-docs/stable/user_guide/indexing.html#returning-a-view-versus-a-copy\n",
      "  self._setitem_single_block(indexer, value, name)\n"
     ]
    }
   ],
   "source": [
    "create_sold_data_convert(new_df)\n",
    "create_price_diff(new_df)\n",
    "create_first_last_date(new_df)\n",
    "substring_clean(new_df)\n",
    "loop_substring_clean(new_df)\n",
    "column_conversion(new_df)\n",
    "price_conversion(new_df)\n",
    "year_built(new_df)\n",
    "sq_ft(new_df)\n",
    "create_prop_dict(new_df)\n",
    "create_city_dict(new_df)\n",
    "create_house_style(new_df)\n",
    "first_time_list(new_df)\n",
    "average_metrics(new_df)\n",
    "comparative_average(new_df)\n",
    "fair_value(new_df)\n"
   ]
  },
  {
   "cell_type": "code",
   "execution_count": 10,
   "id": "030fcf4c",
   "metadata": {},
   "outputs": [],
   "source": [
    "final_df=new_df.drop(columns= ['index', 'Unnamed: 0', 'sold_data'])\n",
    "final_df=final_df.rename(columns={\"year built\": \"year_built\"})\n",
    "year_conversion(final_df)\n",
    "final_df\n",
    "final_df.to_csv(\"Final_df.csv\")"
   ]
  },
  {
   "cell_type": "code",
   "execution_count": 11,
   "id": "4e09f19d",
   "metadata": {},
   "outputs": [
    {
     "data": {
      "text/plain": [
       "county\n",
       " 55025           90.620\n",
       " Ada            153.685\n",
       " Arapahoe        29.560\n",
       " Bernalillo      73.700\n",
       " Boise           76.100\n",
       " Boulder         91.920\n",
       " Clackamas      211.420\n",
       " Collin         101.960\n",
       " Dallas          88.670\n",
       " Dane            68.100\n",
       " Denton          84.100\n",
       " Denver          45.405\n",
       " Fremont        146.820\n",
       " King           104.830\n",
       " Lane            91.710\n",
       " Madison         48.490\n",
       " Maricopa       156.300\n",
       " Milwaukee       26.560\n",
       " Multnomah      101.750\n",
       " Oakland         45.905\n",
       " Orange          93.315\n",
       " San Diego       93.870\n",
       " Santa Clara     85.000\n",
       " Santa Fe        74.740\n",
       " Tarrant         75.140\n",
       " Washington     106.175\n",
       " Wayne          199.990\n",
       "Name: price_change, dtype: float64"
      ]
     },
     "execution_count": 11,
     "metadata": {},
     "output_type": "execute_result"
    }
   ],
   "source": [
    "test_df=final_df[final_df['price_change'] != 0 ]\n",
    "test_df.groupby(['county'])['price_change'].median()"
   ]
  },
  {
   "cell_type": "code",
   "execution_count": 12,
   "id": "e3aaf9d9",
   "metadata": {},
   "outputs": [
    {
     "data": {
      "text/plain": [
       "city\n",
       "Albuquerque_NM         3056.781818\n",
       "Anaheim_CA             2127.541667\n",
       "Arlington_TX           1312.102564\n",
       "Bellevue_WA            1082.428571\n",
       "Birmingham_MI          1985.430769\n",
       "Boise_ID               2118.924528\n",
       "Boulder_CO             1830.867925\n",
       "Chandler_AZ            1769.653846\n",
       "Cupertino_CA            891.900000\n",
       "Dallas_TX              2140.258621\n",
       "Denver_CO               338.760000\n",
       "Detroit_MI             1781.086957\n",
       "Eugene_OR              2278.370370\n",
       "Farmington-Hills_MI    2050.255319\n",
       "Frisco_TX              1910.217391\n",
       "Madison_WI             1717.687500\n",
       "Milwaukee_WI            965.650000\n",
       "Phoenix_AZ             2096.265306\n",
       "Plano_TX               1750.765957\n",
       "Portland_OR            2455.041667\n",
       "Rexburg_ID              620.104167\n",
       "Royal-Oak_MI           2442.535714\n",
       "San-Diego_CA           1923.120000\n",
       "San-Jose_CA            2353.285714\n",
       "Santa-Fe_NM            3153.111111\n",
       "Seattle_WA             1241.368421\n",
       "Name: days_price_change, dtype: float64"
      ]
     },
     "execution_count": 12,
     "metadata": {},
     "output_type": "execute_result"
    }
   ],
   "source": [
    "test_df.groupby(['city'])['days_price_change'].mean()"
   ]
  },
  {
   "cell_type": "code",
   "execution_count": 13,
   "id": "f2441e92",
   "metadata": {},
   "outputs": [
    {
     "data": {
      "text/plain": [
       "county\n",
       " 55025           90.620000\n",
       " Ada            187.041851\n",
       " Arapahoe        31.048000\n",
       " Bernalillo      89.792346\n",
       " Boise           76.100000\n",
       " Boulder        107.502488\n",
       " Clackamas      211.420000\n",
       " Collin         422.338154\n",
       " Dallas         160.129649\n",
       " Dane            79.913404\n",
       " Denton         120.706207\n",
       " Denver          64.817500\n",
       " Fremont        146.820000\n",
       " King           119.837576\n",
       " Lane           127.745185\n",
       " Madison        130.872796\n",
       " Maricopa       239.154851\n",
       " Milwaukee      278.982380\n",
       " Multnomah       97.003529\n",
       " Oakland        271.103358\n",
       " Orange         107.390417\n",
       " San Diego      105.379600\n",
       " Santa Clara    118.054967\n",
       " Santa Fe       103.587111\n",
       " Tarrant        101.291795\n",
       " Washington     112.311667\n",
       " Wayne          654.163478\n",
       "Name: price_change, dtype: float64"
      ]
     },
     "execution_count": 13,
     "metadata": {},
     "output_type": "execute_result"
    }
   ],
   "source": [
    "test_df.groupby(['county'])['price_change'].mean()"
   ]
  },
  {
   "cell_type": "code",
   "execution_count": 14,
   "id": "42a8dd8f",
   "metadata": {},
   "outputs": [
    {
     "data": {
      "text/plain": [
       "YEAR_DECADE\n",
       "1950 - 1959      140.644442\n",
       "1960 - 1969      201.585872\n",
       "1970 - 1979      113.881410\n",
       "1980 - 1989      126.050846\n",
       "1990 - 1999      131.464714\n",
       "2000 - 2009      252.751916\n",
       "2010 - 2019      163.413696\n",
       "2020 - 2022      231.721196\n",
       "Before 1950      234.077116\n",
       "No Year Given    124.478537\n",
       "Name: price_change, dtype: float64"
      ]
     },
     "execution_count": 14,
     "metadata": {},
     "output_type": "execute_result"
    }
   ],
   "source": [
    "test_df.groupby(['YEAR_DECADE'])['price_change'].mean()"
   ]
  },
  {
   "cell_type": "code",
   "execution_count": 15,
   "id": "532e3244",
   "metadata": {},
   "outputs": [
    {
     "data": {
      "text/plain": [
       "first_time_list\n",
       "Not_First_Time    188.154728\n",
       "Name: price_change, dtype: float64"
      ]
     },
     "execution_count": 15,
     "metadata": {},
     "output_type": "execute_result"
    }
   ],
   "source": [
    "test_df.groupby(['first_time_list'])['price_change'].mean()"
   ]
  },
  {
   "cell_type": "code",
   "execution_count": 16,
   "id": "65eb6f25",
   "metadata": {},
   "outputs": [],
   "source": [
    "import seaborn as sns\n",
    "import matplotlib.pyplot as plt\n",
    "from sklearn.decomposition import PCA\n",
    "from sklearn.cluster import KMeans\n",
    "\n",
    "numerics = ['int16', 'int32', 'int64', 'float16', 'float32', 'float64']\n",
    "\n",
    "newdf = final_df.select_dtypes(include=numerics)\n",
    "newdf=newdf.dropna()\n",
    "mat = newdf.values"
   ]
  },
  {
   "cell_type": "code",
   "execution_count": 17,
   "id": "85258534",
   "metadata": {},
   "outputs": [],
   "source": [
    "year_df=final_df[(final_df['year_built'] != 0)]"
   ]
  },
  {
   "cell_type": "code",
   "execution_count": 25,
   "id": "22a859b0",
   "metadata": {},
   "outputs": [
    {
     "data": {
      "text/plain": [
       "<AxesSubplot:>"
      ]
     },
     "execution_count": 25,
     "metadata": {},
     "output_type": "execute_result"
    },
    {
     "data": {
      "image/png": "[encoded data removed]",
      "text/plain": [
       "<Figure size 432x288 with 2 Axes>"
      ]
     },
     "metadata": {
      "needs_background": "light"
     },
     "output_type": "display_data"
    }
   ],
   "source": [
    "sns.heatmap(new_df.corr())"
   ]
  },
  {
   "cell_type": "code",
   "execution_count": 31,
   "id": "f405ed41",
   "metadata": {},
   "outputs": [],
   "source": [
    "from sklearn.linear_model import LinearRegression\n",
    "from sklearn.model_selection import train_test_split\n",
    "import statsmodels.api as sm\n",
    "X=final_df[['sqft','bed','bath','property_type_code','House_Style_Code','city_code','year_built','County_Over_National']]\n",
    "y=final_df['price']"
   ]
  },
  {
   "cell_type": "code",
   "execution_count": 32,
   "id": "1c1d44d0",
   "metadata": {},
   "outputs": [
    {
     "name": "stderr",
     "output_type": "stream",
     "text": [
      "C:\\Users\\hsman\\anaconda3\\lib\\site-packages\\statsmodels\\tsa\\tsatools.py:142: FutureWarning: In a future version of pandas all arguments of concat except for the argument 'objs' will be keyword-only\n",
      "  x = pd.concat(x[::order], 1)\n"
     ]
    },
    {
     "data": {
      "text/plain": [
       "const                  -570365.110625\n",
       "sqft                       210.148078\n",
       "bed                      53260.050757\n",
       "bath                     53260.050758\n",
       "property_type_code       -8434.760975\n",
       "House_Style_Code         -1547.603962\n",
       "city_code                 2243.486135\n",
       "year_built                 -94.793415\n",
       "County_Over_National    789392.469752\n",
       "dtype: float64"
      ]
     },
     "execution_count": 32,
     "metadata": {},
     "output_type": "execute_result"
    }
   ],
   "source": [
    "X_train, X_test, y_train, y_test = train_test_split(X, y, train_size = 0.7, test_size = 0.3, random_state = 100)\n",
    "\n",
    "# Adding a constant to get an intercept\n",
    "X_train_sm = sm.add_constant(X_train)\n",
    "\n",
    "# Fitting the resgression line using 'OLS'\n",
    "lr = sm.OLS(y_train, X_train_sm).fit()\n",
    "\n",
    "# Printing the parameters\n",
    "lr.params"
   ]
  },
  {
   "cell_type": "code",
   "execution_count": 33,
   "id": "0785cb0b",
   "metadata": {
    "scrolled": true
   },
   "outputs": [
    {
     "data": {
      "text/html": [
       "<table class=\"simpletable\">\n",
       "<caption>OLS Regression Results</caption>\n",
       "<tr>\n",
       "  <th>Dep. Variable:</th>          <td>price</td>      <th>  R-squared:         </th> <td>   0.268</td> \n",
       "</tr>\n",
       "<tr>\n",
       "  <th>Model:</th>                   <td>OLS</td>       <th>  Adj. R-squared:    </th> <td>   0.264</td> \n",
       "</tr>\n",
       "<tr>\n",
       "  <th>Method:</th>             <td>Least Squares</td>  <th>  F-statistic:       </th> <td>   64.09</td> \n",
       "</tr>\n",
       "<tr>\n",
       "  <th>Date:</th>             <td>Fri, 01 Jul 2022</td> <th>  Prob (F-statistic):</th> <td>1.02e-78</td> \n",
       "</tr>\n",
       "<tr>\n",
       "  <th>Time:</th>                 <td>06:15:48</td>     <th>  Log-Likelihood:    </th> <td> -18667.</td> \n",
       "</tr>\n",
       "<tr>\n",
       "  <th>No. Observations:</th>      <td>  1234</td>      <th>  AIC:               </th> <td>3.735e+04</td>\n",
       "</tr>\n",
       "<tr>\n",
       "  <th>Df Residuals:</th>          <td>  1226</td>      <th>  BIC:               </th> <td>3.739e+04</td>\n",
       "</tr>\n",
       "<tr>\n",
       "  <th>Df Model:</th>              <td>     7</td>      <th>                     </th>     <td> </td>    \n",
       "</tr>\n",
       "<tr>\n",
       "  <th>Covariance Type:</th>      <td>nonrobust</td>    <th>                     </th>     <td> </td>    \n",
       "</tr>\n",
       "</table>\n",
       "<table class=\"simpletable\">\n",
       "<tr>\n",
       "            <td></td>              <th>coef</th>     <th>std err</th>      <th>t</th>      <th>P>|t|</th>  <th>[0.025</th>    <th>0.975]</th>  \n",
       "</tr>\n",
       "<tr>\n",
       "  <th>const</th>                <td>-5.704e+05</td> <td> 1.91e+05</td> <td>   -2.979</td> <td> 0.003</td> <td>-9.46e+05</td> <td>-1.95e+05</td>\n",
       "</tr>\n",
       "<tr>\n",
       "  <th>sqft</th>                 <td>  210.1481</td> <td>   22.283</td> <td>    9.431</td> <td> 0.000</td> <td>  166.430</td> <td>  253.866</td>\n",
       "</tr>\n",
       "<tr>\n",
       "  <th>bed</th>                  <td> 5.326e+04</td> <td>  1.2e+04</td> <td>    4.435</td> <td> 0.000</td> <td> 2.97e+04</td> <td> 7.68e+04</td>\n",
       "</tr>\n",
       "<tr>\n",
       "  <th>bath</th>                 <td> 5.326e+04</td> <td>  1.2e+04</td> <td>    4.435</td> <td> 0.000</td> <td> 2.97e+04</td> <td> 7.68e+04</td>\n",
       "</tr>\n",
       "<tr>\n",
       "  <th>property_type_code</th>   <td>-8434.7610</td> <td> 1.83e+04</td> <td>   -0.460</td> <td> 0.646</td> <td>-4.44e+04</td> <td> 2.75e+04</td>\n",
       "</tr>\n",
       "<tr>\n",
       "  <th>House_Style_Code</th>     <td>-1547.6040</td> <td> 3657.495</td> <td>   -0.423</td> <td> 0.672</td> <td>-8723.247</td> <td> 5628.039</td>\n",
       "</tr>\n",
       "<tr>\n",
       "  <th>city_code</th>            <td> 2243.4861</td> <td> 4076.223</td> <td>    0.550</td> <td> 0.582</td> <td>-5753.660</td> <td> 1.02e+04</td>\n",
       "</tr>\n",
       "<tr>\n",
       "  <th>year_built</th>           <td>  -94.7934</td> <td>   66.197</td> <td>   -1.432</td> <td> 0.152</td> <td> -224.666</td> <td>   35.079</td>\n",
       "</tr>\n",
       "<tr>\n",
       "  <th>County_Over_National</th> <td> 7.894e+05</td> <td> 5.59e+04</td> <td>   14.110</td> <td> 0.000</td> <td>  6.8e+05</td> <td> 8.99e+05</td>\n",
       "</tr>\n",
       "</table>\n",
       "<table class=\"simpletable\">\n",
       "<tr>\n",
       "  <th>Omnibus:</th>       <td>2367.293</td> <th>  Durbin-Watson:     </th>  <td>   1.970</td>  \n",
       "</tr>\n",
       "<tr>\n",
       "  <th>Prob(Omnibus):</th>  <td> 0.000</td>  <th>  Jarque-Bera (JB):  </th> <td>3903951.805</td>\n",
       "</tr>\n",
       "<tr>\n",
       "  <th>Skew:</th>           <td>14.083</td>  <th>  Prob(JB):          </th>  <td>    0.00</td>  \n",
       "</tr>\n",
       "<tr>\n",
       "  <th>Kurtosis:</th>       <td>277.107</td> <th>  Cond. No.          </th>  <td>3.13e+18</td>  \n",
       "</tr>\n",
       "</table><br/><br/>Notes:<br/>[1] Standard Errors assume that the covariance matrix of the errors is correctly specified.<br/>[2] The smallest eigenvalue is 1.07e-27. This might indicate that there are<br/>strong multicollinearity problems or that the design matrix is singular."
      ],
      "text/plain": [
       "<class 'statsmodels.iolib.summary.Summary'>\n",
       "\"\"\"\n",
       "                            OLS Regression Results                            \n",
       "==============================================================================\n",
       "Dep. Variable:                  price   R-squared:                       0.268\n",
       "Model:                            OLS   Adj. R-squared:                  0.264\n",
       "Method:                 Least Squares   F-statistic:                     64.09\n",
       "Date:                Fri, 01 Jul 2022   Prob (F-statistic):           1.02e-78\n",
       "Time:                        06:15:48   Log-Likelihood:                -18667.\n",
       "No. Observations:                1234   AIC:                         3.735e+04\n",
       "Df Residuals:                    1226   BIC:                         3.739e+04\n",
       "Df Model:                           7                                         \n",
       "Covariance Type:            nonrobust                                         \n",
       "========================================================================================\n",
       "                           coef    std err          t      P>|t|      [0.025      0.975]\n",
       "----------------------------------------------------------------------------------------\n",
       "const                -5.704e+05   1.91e+05     -2.979      0.003   -9.46e+05   -1.95e+05\n",
       "sqft                   210.1481     22.283      9.431      0.000     166.430     253.866\n",
       "bed                   5.326e+04    1.2e+04      4.435      0.000    2.97e+04    7.68e+04\n",
       "bath                  5.326e+04    1.2e+04      4.435      0.000    2.97e+04    7.68e+04\n",
       "property_type_code   -8434.7610   1.83e+04     -0.460      0.646   -4.44e+04    2.75e+04\n",
       "House_Style_Code     -1547.6040   3657.495     -0.423      0.672   -8723.247    5628.039\n",
       "city_code             2243.4861   4076.223      0.550      0.582   -5753.660    1.02e+04\n",
       "year_built             -94.7934     66.197     -1.432      0.152    -224.666      35.079\n",
       "County_Over_National  7.894e+05   5.59e+04     14.110      0.000     6.8e+05    8.99e+05\n",
       "==============================================================================\n",
       "Omnibus:                     2367.293   Durbin-Watson:                   1.970\n",
       "Prob(Omnibus):                  0.000   Jarque-Bera (JB):          3903951.805\n",
       "Skew:                          14.083   Prob(JB):                         0.00\n",
       "Kurtosis:                     277.107   Cond. No.                     3.13e+18\n",
       "==============================================================================\n",
       "\n",
       "Notes:\n",
       "[1] Standard Errors assume that the covariance matrix of the errors is correctly specified.\n",
       "[2] The smallest eigenvalue is 1.07e-27. This might indicate that there are\n",
       "strong multicollinearity problems or that the design matrix is singular.\n",
       "\"\"\""
      ]
     },
     "execution_count": 33,
     "metadata": {},
     "output_type": "execute_result"
    }
   ],
   "source": [
    "lr.summary()"
   ]
  },
  {
   "cell_type": "code",
   "execution_count": 37,
   "id": "a1809019",
   "metadata": {},
   "outputs": [],
   "source": [
    "from sklearn.linear_model import LogisticRegression\n",
    "from sklearn.model_selection import train_test_split\n",
    "import statsmodels.api as sm\n",
    "X=final_df[['sqft','bed','bath','property_type_code','House_Style_Code','city_code','year_built']]\n",
    "y=final_df['fair_value_flag']"
   ]
  },
  {
   "cell_type": "code",
   "execution_count": 38,
   "id": "181a7d3c",
   "metadata": {},
   "outputs": [
    {
     "name": "stdout",
     "output_type": "stream",
     "text": [
      "Accuracy of logistic regression classifier on test set: 0.68\n"
     ]
    },
    {
     "name": "stderr",
     "output_type": "stream",
     "text": [
      "C:\\Users\\hsman\\anaconda3\\lib\\site-packages\\statsmodels\\tsa\\tsatools.py:142: FutureWarning: In a future version of pandas all arguments of concat except for the argument 'objs' will be keyword-only\n",
      "  x = pd.concat(x[::order], 1)\n"
     ]
    }
   ],
   "source": [
    "X_train, X_test, y_train, y_test = train_test_split(X, y, train_size = 0.7, test_size = 0.3, random_state = 100)\n",
    "\n",
    "# Adding a constant to get an intercept\n",
    "X_train_sm = sm.add_constant(X_train)\n",
    "\n",
    "logreg = LogisticRegression()\n",
    "logreg.fit(X_train, y_train)\n",
    "\n",
    "y_pred = logreg.predict(X_test)\n",
    "print('Accuracy of logistic regression classifier on test set: {:.2f}'.format(logreg.score(X_test, y_test)))"
   ]
  },
  {
   "cell_type": "code",
   "execution_count": 39,
   "id": "1b92a1bf",
   "metadata": {},
   "outputs": [
    {
     "data": {
      "text/plain": [
       "Index(['List_over_National', 'price_change'], dtype='object')"
      ]
     },
     "execution_count": 39,
     "metadata": {},
     "output_type": "execute_result"
    }
   ],
   "source": [
    "k_means_data = final_df[['List_over_National','price_change']]\n",
    "k_means_data.columns"
   ]
  },
  {
   "cell_type": "code",
   "execution_count": 24,
   "id": "10dff1be",
   "metadata": {},
   "outputs": [
    {
     "name": "stdout",
     "output_type": "stream",
     "text": [
      "[[1.00063204e+00 7.93332520e+01]\n",
      " [4.43172753e-01 2.18328350e+04]]\n"
     ]
    },
    {
     "data": {
      "image/png": "[encoded data removed]",
      "text/plain": [
       "<Figure size 432x288 with 1 Axes>"
      ]
     },
     "metadata": {
      "needs_background": "light"
     },
     "output_type": "display_data"
    }
   ],
   "source": [
    "\n",
    "kmeans = KMeans(n_clusters=2).fit(k_means_data)\n",
    "centroids = kmeans.cluster_centers_\n",
    "print(centroids)\n",
    "\n",
    "plt.scatter(k_means_data['List_over_National'], k_means_data['price_change'], c= kmeans.labels_.astype(float), s=30, alpha=0.5)\n",
    "plt.scatter(centroids[:, 0], centroids[:, 1], c='red', s=50)\n",
    "plt.show()"
   ]
  },
  {
   "cell_type": "code",
   "execution_count": null,
   "id": "4a4c47c7",
   "metadata": {},
   "outputs": [],
   "source": []
  },
  {
   "cell_type": "code",
   "execution_count": null,
   "id": "8adbb5c1",
   "metadata": {},
   "outputs": [],
   "source": []
  },
  {
   "cell_type": "code",
   "execution_count": null,
   "id": "be61aa7b",
   "metadata": {},
   "outputs": [],
   "source": []
  },
  {
   "cell_type": "code",
   "execution_count": null,
   "id": "4a699083",
   "metadata": {},
   "outputs": [],
   "source": []
  },
  {
   "cell_type": "code",
   "execution_count": null,
   "id": "fe77d91e",
   "metadata": {},
   "outputs": [],
   "source": []
  },
  {
   "cell_type": "code",
   "execution_count": null,
   "id": "d4a8faed",
   "metadata": {},
   "outputs": [],
   "source": []
  },
  {
   "cell_type": "code",
   "execution_count": null,
   "id": "5b19e42c",
   "metadata": {},
   "outputs": [],
   "source": []
  },
  {
   "cell_type": "code",
   "execution_count": null,
   "id": "7e7a151e",
   "metadata": {},
   "outputs": [],
   "source": []
  }
 ],
 "metadata": {
  "kernelspec": {
   "display_name": "Python 3 (ipykernel)",
   "language": "python",
   "name": "python3"
  },
  "language_info": {
   "codemirror_mode": {
    "name": "ipython",
    "version": 3
   },
   "file_extension": ".py",
   "mimetype": "text/x-python",
   "name": "python",
   "nbconvert_exporter": "python",
   "pygments_lexer": "ipython3",
   "version": "3.9.7"
  }
 },
 "nbformat": 4,
 "nbformat_minor": 5
}
